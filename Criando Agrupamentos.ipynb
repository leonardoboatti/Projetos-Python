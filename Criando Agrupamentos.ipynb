{
 "cells": [
  {
   "cell_type": "markdown",
   "id": "1c184a3b",
   "metadata": {},
   "source": [
    "# Relatorio de Analise 7"
   ]
  },
  {
   "cell_type": "markdown",
   "id": "aeb12746",
   "metadata": {},
   "source": [
    "## Criando Agrupamentos"
   ]
  },
  {
   "cell_type": "code",
   "execution_count": 18,
   "id": "4b0dc757",
   "metadata": {},
   "outputs": [],
   "source": [
    "import pandas as pd"
   ]
  },
  {
   "cell_type": "code",
   "execution_count": 19,
   "id": "1626c841",
   "metadata": {},
   "outputs": [],
   "source": [
    "dados = pd.read_csv('dados/aluguel_residencial.csv', sep = ';')"
   ]
  },
  {
   "cell_type": "code",
   "execution_count": 20,
   "id": "e09e550e",
   "metadata": {},
   "outputs": [
    {
     "data": {
      "text/html": [
       "<div>\n",
       "<style scoped>\n",
       "    .dataframe tbody tr th:only-of-type {\n",
       "        vertical-align: middle;\n",
       "    }\n",
       "\n",
       "    .dataframe tbody tr th {\n",
       "        vertical-align: top;\n",
       "    }\n",
       "\n",
       "    .dataframe thead th {\n",
       "        text-align: right;\n",
       "    }\n",
       "</style>\n",
       "<table border=\"1\" class=\"dataframe\">\n",
       "  <thead>\n",
       "    <tr style=\"text-align: right;\">\n",
       "      <th></th>\n",
       "      <th>Tipo</th>\n",
       "      <th>Bairro</th>\n",
       "      <th>Quartos</th>\n",
       "      <th>Vagas</th>\n",
       "      <th>Suites</th>\n",
       "      <th>Area</th>\n",
       "      <th>Valor</th>\n",
       "      <th>Condominio</th>\n",
       "      <th>IPTU</th>\n",
       "      <th>Valor m2</th>\n",
       "      <th>Tipo Agregado</th>\n",
       "    </tr>\n",
       "  </thead>\n",
       "  <tbody>\n",
       "    <tr>\n",
       "      <th>0</th>\n",
       "      <td>Quitinete</td>\n",
       "      <td>Copacabana</td>\n",
       "      <td>1</td>\n",
       "      <td>0</td>\n",
       "      <td>0</td>\n",
       "      <td>40</td>\n",
       "      <td>1700.0</td>\n",
       "      <td>500.0</td>\n",
       "      <td>60.0</td>\n",
       "      <td>42.50</td>\n",
       "      <td>Apartamento</td>\n",
       "    </tr>\n",
       "    <tr>\n",
       "      <th>1</th>\n",
       "      <td>Casa</td>\n",
       "      <td>Jardim Botânico</td>\n",
       "      <td>2</td>\n",
       "      <td>0</td>\n",
       "      <td>1</td>\n",
       "      <td>100</td>\n",
       "      <td>7000.0</td>\n",
       "      <td>NaN</td>\n",
       "      <td>NaN</td>\n",
       "      <td>70.00</td>\n",
       "      <td>Casa</td>\n",
       "    </tr>\n",
       "    <tr>\n",
       "      <th>2</th>\n",
       "      <td>Conjunto Comercial/Sala</td>\n",
       "      <td>Barra da Tijuca</td>\n",
       "      <td>0</td>\n",
       "      <td>4</td>\n",
       "      <td>0</td>\n",
       "      <td>150</td>\n",
       "      <td>5200.0</td>\n",
       "      <td>4020.0</td>\n",
       "      <td>1111.0</td>\n",
       "      <td>34.67</td>\n",
       "      <td>Apartamento</td>\n",
       "    </tr>\n",
       "    <tr>\n",
       "      <th>3</th>\n",
       "      <td>Apartamento</td>\n",
       "      <td>Centro</td>\n",
       "      <td>1</td>\n",
       "      <td>0</td>\n",
       "      <td>0</td>\n",
       "      <td>15</td>\n",
       "      <td>800.0</td>\n",
       "      <td>390.0</td>\n",
       "      <td>20.0</td>\n",
       "      <td>53.33</td>\n",
       "      <td>Apartamento</td>\n",
       "    </tr>\n",
       "    <tr>\n",
       "      <th>4</th>\n",
       "      <td>Apartamento</td>\n",
       "      <td>Higienópolis</td>\n",
       "      <td>1</td>\n",
       "      <td>0</td>\n",
       "      <td>0</td>\n",
       "      <td>48</td>\n",
       "      <td>800.0</td>\n",
       "      <td>230.0</td>\n",
       "      <td>NaN</td>\n",
       "      <td>16.67</td>\n",
       "      <td>Apartamento</td>\n",
       "    </tr>\n",
       "    <tr>\n",
       "      <th>5</th>\n",
       "      <td>Apartamento</td>\n",
       "      <td>Vista Alegre</td>\n",
       "      <td>3</td>\n",
       "      <td>1</td>\n",
       "      <td>0</td>\n",
       "      <td>70</td>\n",
       "      <td>1200.0</td>\n",
       "      <td>NaN</td>\n",
       "      <td>NaN</td>\n",
       "      <td>17.14</td>\n",
       "      <td>Apartamento</td>\n",
       "    </tr>\n",
       "    <tr>\n",
       "      <th>6</th>\n",
       "      <td>Apartamento</td>\n",
       "      <td>Cachambi</td>\n",
       "      <td>2</td>\n",
       "      <td>0</td>\n",
       "      <td>0</td>\n",
       "      <td>50</td>\n",
       "      <td>1300.0</td>\n",
       "      <td>301.0</td>\n",
       "      <td>17.0</td>\n",
       "      <td>26.00</td>\n",
       "      <td>Apartamento</td>\n",
       "    </tr>\n",
       "    <tr>\n",
       "      <th>7</th>\n",
       "      <td>Casa de Condomínio</td>\n",
       "      <td>Barra da Tijuca</td>\n",
       "      <td>5</td>\n",
       "      <td>4</td>\n",
       "      <td>5</td>\n",
       "      <td>750</td>\n",
       "      <td>22000.0</td>\n",
       "      <td>NaN</td>\n",
       "      <td>NaN</td>\n",
       "      <td>29.33</td>\n",
       "      <td>Casa</td>\n",
       "    </tr>\n",
       "    <tr>\n",
       "      <th>8</th>\n",
       "      <td>Casa de Condomínio</td>\n",
       "      <td>Ramos</td>\n",
       "      <td>2</td>\n",
       "      <td>2</td>\n",
       "      <td>0</td>\n",
       "      <td>65</td>\n",
       "      <td>1000.0</td>\n",
       "      <td>NaN</td>\n",
       "      <td>NaN</td>\n",
       "      <td>15.38</td>\n",
       "      <td>Casa</td>\n",
       "    </tr>\n",
       "    <tr>\n",
       "      <th>9</th>\n",
       "      <td>Conjunto Comercial/Sala</td>\n",
       "      <td>Centro</td>\n",
       "      <td>0</td>\n",
       "      <td>3</td>\n",
       "      <td>0</td>\n",
       "      <td>695</td>\n",
       "      <td>35000.0</td>\n",
       "      <td>19193.0</td>\n",
       "      <td>3030.0</td>\n",
       "      <td>50.36</td>\n",
       "      <td>Apartamento</td>\n",
       "    </tr>\n",
       "  </tbody>\n",
       "</table>\n",
       "</div>"
      ],
      "text/plain": [
       "                      Tipo           Bairro  Quartos  Vagas  Suites  Area  \\\n",
       "0                Quitinete       Copacabana        1      0       0    40   \n",
       "1                     Casa  Jardim Botânico        2      0       1   100   \n",
       "2  Conjunto Comercial/Sala  Barra da Tijuca        0      4       0   150   \n",
       "3              Apartamento           Centro        1      0       0    15   \n",
       "4              Apartamento     Higienópolis        1      0       0    48   \n",
       "5              Apartamento     Vista Alegre        3      1       0    70   \n",
       "6              Apartamento         Cachambi        2      0       0    50   \n",
       "7       Casa de Condomínio  Barra da Tijuca        5      4       5   750   \n",
       "8       Casa de Condomínio            Ramos        2      2       0    65   \n",
       "9  Conjunto Comercial/Sala           Centro        0      3       0   695   \n",
       "\n",
       "     Valor  Condominio    IPTU  Valor m2 Tipo Agregado  \n",
       "0   1700.0       500.0    60.0     42.50   Apartamento  \n",
       "1   7000.0         NaN     NaN     70.00          Casa  \n",
       "2   5200.0      4020.0  1111.0     34.67   Apartamento  \n",
       "3    800.0       390.0    20.0     53.33   Apartamento  \n",
       "4    800.0       230.0     NaN     16.67   Apartamento  \n",
       "5   1200.0         NaN     NaN     17.14   Apartamento  \n",
       "6   1300.0       301.0    17.0     26.00   Apartamento  \n",
       "7  22000.0         NaN     NaN     29.33          Casa  \n",
       "8   1000.0         NaN     NaN     15.38          Casa  \n",
       "9  35000.0     19193.0  3030.0     50.36   Apartamento  "
      ]
     },
     "execution_count": 20,
     "metadata": {},
     "output_type": "execute_result"
    }
   ],
   "source": [
    "dados.head(10)"
   ]
  },
  {
   "cell_type": "code",
   "execution_count": 21,
   "id": "a13b9933",
   "metadata": {},
   "outputs": [
    {
     "data": {
      "text/plain": [
       "12952.659715265761"
      ]
     },
     "execution_count": 21,
     "metadata": {},
     "output_type": "execute_result"
    }
   ],
   "source": [
    "dados['Valor'].mean()"
   ]
  },
  {
   "cell_type": "code",
   "execution_count": 22,
   "id": "f7bf2643",
   "metadata": {},
   "outputs": [],
   "source": [
    "bairros = ['Barra da Tijuca', 'Copacabana', 'Ipanema', 'Leblon', 'Botafogo', 'Flamengo', 'Tijuca']\n",
    "selecao = dados['Bairro'].isin(bairros)\n",
    "dados = dados[selecao]"
   ]
  },
  {
   "cell_type": "code",
   "execution_count": 23,
   "id": "940a9914",
   "metadata": {},
   "outputs": [
    {
     "data": {
      "text/plain": [
       "0           Copacabana\n",
       "2      Barra da Tijuca\n",
       "16            Botafogo\n",
       "21              Tijuca\n",
       "25              Leblon\n",
       "27             Ipanema\n",
       "110           Flamengo\n",
       "Name: Bairro, dtype: object"
      ]
     },
     "execution_count": 23,
     "metadata": {},
     "output_type": "execute_result"
    }
   ],
   "source": [
    "dados['Bairro'].drop_duplicates()"
   ]
  },
  {
   "cell_type": "code",
   "execution_count": 24,
   "id": "ef2d20f0",
   "metadata": {},
   "outputs": [],
   "source": [
    "grupo_bairro = dados.groupby('Bairro')"
   ]
  },
  {
   "cell_type": "code",
   "execution_count": 25,
   "id": "18834ec2",
   "metadata": {},
   "outputs": [
    {
     "data": {
      "text/plain": [
       "pandas.core.groupby.generic.DataFrameGroupBy"
      ]
     },
     "execution_count": 25,
     "metadata": {},
     "output_type": "execute_result"
    }
   ],
   "source": [
    "type(grupo_bairro)"
   ]
  },
  {
   "cell_type": "code",
   "execution_count": 26,
   "id": "b536bbae",
   "metadata": {},
   "outputs": [
    {
     "data": {
      "text/plain": [
       "{'Barra da Tijuca': [2, 7, 20, 22, 30, 35, 41, 44, 49, 59, 60, 76, 78, 81, 89, 90, 93, 97, 103, 104, 111, 112, 115, 134, 146, 155, 156, 157, 158, 159, 163, 165, 168, 172, 176, 179, 192, 194, 197, 199, 203, 225, 228, 230, 247, 248, 251, 255, 260, 261, 274, 277, 281, 306, 315, 325, 330, 332, 340, 347, 348, 354, 358, 364, 368, 374, 387, 390, 399, 401, 408, 416, 419, 434, 440, 441, 442, 444, 452, 455, 456, 465, 470, 471, 493, 499, 505, 509, 512, 513, 522, 530, 544, 546, 554, 558, 566, 573, 581, 583, ...], 'Botafogo': [16, 17, 32, 66, 83, 116, 124, 125, 164, 182, 191, 201, 204, 238, 293, 297, 334, 360, 376, 424, 458, 469, 490, 507, 545, 548, 622, 623, 652, 670, 740, 744, 781, 785, 811, 849, 884, 895, 910, 948, 979, 1035, 1083, 1101, 1138, 1148, 1159, 1175, 1192, 1239, 1247, 1266, 1292, 1374, 1381, 1389, 1394, 1403, 1492, 1503, 1508, 1556, 1603, 1621, 1643, 1653, 1668, 1689, 1721, 1749, 1786, 1790, 1791, 1818, 1861, 1906, 1913, 1926, 1939, 1963, 2007, 2036, 2063, 2071, 2094, 2119, 2128, 2154, 2193, 2255, 2284, 2298, 2375, 2396, 2444, 2451, 2473, 2490, 2518, 2544, ...], 'Copacabana': [0, 13, 14, 15, 33, 34, 39, 43, 58, 123, 132, 152, 162, 189, 196, 209, 210, 213, 215, 219, 226, 243, 250, 262, 273, 285, 290, 303, 329, 371, 398, 418, 421, 426, 438, 439, 453, 464, 479, 484, 486, 496, 501, 525, 541, 553, 563, 564, 582, 596, 608, 636, 637, 644, 650, 653, 679, 682, 692, 724, 725, 726, 727, 742, 753, 791, 794, 799, 823, 837, 857, 858, 866, 875, 882, 885, 913, 917, 919, 925, 952, 954, 981, 1000, 1008, 1009, 1014, 1025, 1038, 1041, 1047, 1057, 1074, 1100, 1110, 1115, 1158, 1167, 1203, 1218, ...], 'Flamengo': [110, 206, 321, 322, 431, 487, 524, 537, 543, 547, 559, 588, 629, 641, 660, 709, 754, 810, 871, 933, 1015, 1046, 1096, 1147, 1199, 1286, 1328, 1336, 1352, 1400, 1416, 1452, 1558, 1629, 1651, 1669, 1686, 1753, 1797, 1836, 1846, 2031, 2088, 2092, 2269, 2279, 2294, 2310, 2324, 2336, 2379, 2408, 2411, 2530, 2552, 2614, 2640, 2643, 2761, 2781, 2826, 2919, 2968, 3025, 3034, 3071, 3286, 3348, 3361, 3416, 3428, 3487, 3513, 3533, 3554, 3577, 3605, 3657, 3707, 3828, 3831, 3845, 3851, 3895, 3943, 3989, 3991, 4015, 4123, 4132, 4138, 4225, 4234, 4366, 4378, 4398, 4459, 4485, 4509, 4539, ...], 'Ipanema': [27, 55, 56, 63, 71, 73, 102, 121, 133, 170, 184, 195, 212, 235, 266, 268, 317, 320, 342, 362, 366, 409, 430, 481, 495, 508, 515, 518, 561, 570, 580, 587, 594, 600, 609, 662, 710, 717, 729, 769, 780, 800, 843, 846, 861, 864, 867, 869, 889, 891, 923, 938, 942, 977, 978, 994, 1010, 1017, 1031, 1042, 1058, 1067, 1071, 1081, 1088, 1094, 1099, 1102, 1106, 1126, 1127, 1134, 1139, 1169, 1173, 1194, 1209, 1212, 1220, 1223, 1224, 1231, 1251, 1290, 1291, 1313, 1330, 1347, 1351, 1358, 1361, 1388, 1393, 1402, 1408, 1430, 1432, 1456, 1459, 1476, ...], 'Leblon': [25, 37, 88, 131, 139, 173, 200, 211, 237, 249, 257, 275, 313, 323, 331, 343, 370, 474, 476, 491, 531, 532, 590, 595, 611, 628, 661, 666, 681, 688, 695, 699, 719, 730, 739, 751, 763, 774, 816, 863, 899, 901, 908, 961, 965, 998, 1037, 1049, 1053, 1061, 1072, 1107, 1129, 1162, 1174, 1235, 1249, 1256, 1257, 1265, 1270, 1300, 1309, 1350, 1366, 1398, 1401, 1420, 1441, 1448, 1473, 1572, 1578, 1589, 1590, 1592, 1598, 1617, 1619, 1634, 1655, 1692, 1709, 1716, 1722, 1773, 1789, 1793, 1804, 1807, 1814, 1839, 1900, 1902, 1908, 1935, 1937, 1989, 1992, 2005, ...], 'Tijuca': [21, 24, 28, 114, 118, 175, 190, 193, 207, 218, 222, 224, 234, 246, 264, 269, 271, 276, 294, 299, 388, 392, 422, 514, 519, 534, 550, 654, 669, 698, 713, 743, 758, 767, 787, 795, 840, 845, 887, 900, 904, 941, 958, 959, 988, 1020, 1026, 1112, 1119, 1120, 1145, 1164, 1181, 1190, 1197, 1204, 1221, 1263, 1268, 1282, 1304, 1310, 1322, 1327, 1334, 1346, 1384, 1390, 1425, 1453, 1463, 1480, 1483, 1526, 1540, 1549, 1580, 1613, 1657, 1741, 1745, 1751, 1783, 1869, 1881, 1899, 2052, 2099, 2123, 2127, 2134, 2145, 2155, 2190, 2191, 2195, 2226, 2299, 2307, 2349, ...]}"
      ]
     },
     "execution_count": 26,
     "metadata": {},
     "output_type": "execute_result"
    }
   ],
   "source": [
    "grupo_bairro.groups"
   ]
  },
  {
   "cell_type": "code",
   "execution_count": 27,
   "id": "89c9480e",
   "metadata": {},
   "outputs": [
    {
     "name": "stdout",
     "output_type": "stream",
     "text": [
      "Barra da Tijuca -> 9019.593829923273\n",
      "Botafogo -> 19517.037900874635\n",
      "Copacabana -> 4509.83453689168\n",
      "Flamengo -> 6923.4839901477835\n",
      "Ipanema -> 10456.517689207345\n",
      "Leblon -> 11052.345060893098\n",
      "Tijuca -> 2954.6740250183957\n"
     ]
    }
   ],
   "source": [
    "for bairro, data in grupo_bairro:\n",
    "    print('{} -> {}'.format(bairro, data.Valor.mean()))"
   ]
  },
  {
   "cell_type": "code",
   "execution_count": 28,
   "id": "9007781d",
   "metadata": {},
   "outputs": [
    {
     "data": {
      "text/html": [
       "<div>\n",
       "<style scoped>\n",
       "    .dataframe tbody tr th:only-of-type {\n",
       "        vertical-align: middle;\n",
       "    }\n",
       "\n",
       "    .dataframe tbody tr th {\n",
       "        vertical-align: top;\n",
       "    }\n",
       "\n",
       "    .dataframe thead th {\n",
       "        text-align: right;\n",
       "    }\n",
       "</style>\n",
       "<table border=\"1\" class=\"dataframe\">\n",
       "  <thead>\n",
       "    <tr style=\"text-align: right;\">\n",
       "      <th></th>\n",
       "      <th>Valor</th>\n",
       "      <th>Condominio</th>\n",
       "    </tr>\n",
       "    <tr>\n",
       "      <th>Bairro</th>\n",
       "      <th></th>\n",
       "      <th></th>\n",
       "    </tr>\n",
       "  </thead>\n",
       "  <tbody>\n",
       "    <tr>\n",
       "      <th>Barra da Tijuca</th>\n",
       "      <td>9019.59</td>\n",
       "      <td>3599.17</td>\n",
       "    </tr>\n",
       "    <tr>\n",
       "      <th>Botafogo</th>\n",
       "      <td>19517.04</td>\n",
       "      <td>3296.48</td>\n",
       "    </tr>\n",
       "    <tr>\n",
       "      <th>Copacabana</th>\n",
       "      <td>4509.83</td>\n",
       "      <td>1211.94</td>\n",
       "    </tr>\n",
       "    <tr>\n",
       "      <th>Flamengo</th>\n",
       "      <td>6923.48</td>\n",
       "      <td>1921.29</td>\n",
       "    </tr>\n",
       "    <tr>\n",
       "      <th>Ipanema</th>\n",
       "      <td>10456.52</td>\n",
       "      <td>2360.60</td>\n",
       "    </tr>\n",
       "    <tr>\n",
       "      <th>Leblon</th>\n",
       "      <td>11052.35</td>\n",
       "      <td>2290.44</td>\n",
       "    </tr>\n",
       "    <tr>\n",
       "      <th>Tijuca</th>\n",
       "      <td>2954.67</td>\n",
       "      <td>854.95</td>\n",
       "    </tr>\n",
       "  </tbody>\n",
       "</table>\n",
       "</div>"
      ],
      "text/plain": [
       "                    Valor  Condominio\n",
       "Bairro                               \n",
       "Barra da Tijuca   9019.59     3599.17\n",
       "Botafogo         19517.04     3296.48\n",
       "Copacabana        4509.83     1211.94\n",
       "Flamengo          6923.48     1921.29\n",
       "Ipanema          10456.52     2360.60\n",
       "Leblon           11052.35     2290.44\n",
       "Tijuca            2954.67      854.95"
      ]
     },
     "execution_count": 28,
     "metadata": {},
     "output_type": "execute_result"
    }
   ],
   "source": [
    "grupo_bairro[['Valor', 'Condominio']].mean().round(2)"
   ]
  },
  {
   "cell_type": "code",
   "execution_count": 29,
   "id": "dfdbebf2",
   "metadata": {},
   "outputs": [],
   "source": [
    "# exercicio \n",
    "import pandas as pd\n",
    "alunos = pd.DataFrame({'Nome': ['Ary', 'Cátia', 'Denis', 'Beto', 'Bruna', 'Dara', 'Carlos', 'Alice'], \n",
    "                        'Sexo': ['M', 'F', 'M', 'M', 'F', 'F', 'M', 'F'], \n",
    "                        'Idade': [15, 27, 56, 32, 42, 21, 19, 35], \n",
    "                        'Notas': [7.5, 2.5, 5.0, 10, 8.2, 7, 6, 5.6], \n",
    "                        'Aprovado': [True, False, False, True, True, True, False, False]}, \n",
    "                        columns = ['Nome', 'Idade', 'Sexo', 'Notas', 'Aprovado'])"
   ]
  },
  {
   "cell_type": "code",
   "execution_count": 30,
   "id": "230b3cd9",
   "metadata": {},
   "outputs": [
    {
     "data": {
      "text/html": [
       "<div>\n",
       "<style scoped>\n",
       "    .dataframe tbody tr th:only-of-type {\n",
       "        vertical-align: middle;\n",
       "    }\n",
       "\n",
       "    .dataframe tbody tr th {\n",
       "        vertical-align: top;\n",
       "    }\n",
       "\n",
       "    .dataframe thead th {\n",
       "        text-align: right;\n",
       "    }\n",
       "</style>\n",
       "<table border=\"1\" class=\"dataframe\">\n",
       "  <thead>\n",
       "    <tr style=\"text-align: right;\">\n",
       "      <th></th>\n",
       "      <th>Notas Médias</th>\n",
       "    </tr>\n",
       "    <tr>\n",
       "      <th>Sexo</th>\n",
       "      <th></th>\n",
       "    </tr>\n",
       "  </thead>\n",
       "  <tbody>\n",
       "    <tr>\n",
       "      <th>F</th>\n",
       "      <td>5.82</td>\n",
       "    </tr>\n",
       "    <tr>\n",
       "      <th>M</th>\n",
       "      <td>7.12</td>\n",
       "    </tr>\n",
       "  </tbody>\n",
       "</table>\n",
       "</div>"
      ],
      "text/plain": [
       "      Notas Médias\n",
       "Sexo              \n",
       "F             5.82\n",
       "M             7.12"
      ]
     },
     "execution_count": 30,
     "metadata": {},
     "output_type": "execute_result"
    }
   ],
   "source": [
    "\n",
    "sexo = alunos.groupby('Sexo')\n",
    "sexo = pd.DataFrame(sexo['Notas'].mean().round(2))\n",
    "sexo.columns = ['Notas Médias']\n",
    "sexo"
   ]
  },
  {
   "cell_type": "markdown",
   "id": "4633de17",
   "metadata": {},
   "source": [
    "## Estatisticas Descritivas"
   ]
  },
  {
   "cell_type": "code",
   "execution_count": 31,
   "id": "a4ec16af",
   "metadata": {},
   "outputs": [
    {
     "data": {
      "text/html": [
       "<div>\n",
       "<style scoped>\n",
       "    .dataframe tbody tr th:only-of-type {\n",
       "        vertical-align: middle;\n",
       "    }\n",
       "\n",
       "    .dataframe tbody tr th {\n",
       "        vertical-align: top;\n",
       "    }\n",
       "\n",
       "    .dataframe thead th {\n",
       "        text-align: right;\n",
       "    }\n",
       "</style>\n",
       "<table border=\"1\" class=\"dataframe\">\n",
       "  <thead>\n",
       "    <tr style=\"text-align: right;\">\n",
       "      <th></th>\n",
       "      <th>count</th>\n",
       "      <th>mean</th>\n",
       "      <th>std</th>\n",
       "      <th>min</th>\n",
       "      <th>25%</th>\n",
       "      <th>50%</th>\n",
       "      <th>75%</th>\n",
       "      <th>max</th>\n",
       "    </tr>\n",
       "    <tr>\n",
       "      <th>Bairro</th>\n",
       "      <th></th>\n",
       "      <th></th>\n",
       "      <th></th>\n",
       "      <th></th>\n",
       "      <th></th>\n",
       "      <th></th>\n",
       "      <th></th>\n",
       "      <th></th>\n",
       "    </tr>\n",
       "  </thead>\n",
       "  <tbody>\n",
       "    <tr>\n",
       "      <th>Barra da Tijuca</th>\n",
       "      <td>6256.0</td>\n",
       "      <td>9019.59</td>\n",
       "      <td>30192.24</td>\n",
       "      <td>100.0</td>\n",
       "      <td>2000.0</td>\n",
       "      <td>3500.0</td>\n",
       "      <td>8000.0</td>\n",
       "      <td>738197.0</td>\n",
       "    </tr>\n",
       "    <tr>\n",
       "      <th>Botafogo</th>\n",
       "      <td>1372.0</td>\n",
       "      <td>19517.04</td>\n",
       "      <td>129131.61</td>\n",
       "      <td>299.0</td>\n",
       "      <td>2500.0</td>\n",
       "      <td>4000.0</td>\n",
       "      <td>11000.0</td>\n",
       "      <td>4500000.0</td>\n",
       "    </tr>\n",
       "    <tr>\n",
       "      <th>Copacabana</th>\n",
       "      <td>3185.0</td>\n",
       "      <td>4509.83</td>\n",
       "      <td>6413.41</td>\n",
       "      <td>100.0</td>\n",
       "      <td>1900.0</td>\n",
       "      <td>3000.0</td>\n",
       "      <td>4900.0</td>\n",
       "      <td>198000.0</td>\n",
       "    </tr>\n",
       "    <tr>\n",
       "      <th>Flamengo</th>\n",
       "      <td>812.0</td>\n",
       "      <td>6923.48</td>\n",
       "      <td>15767.99</td>\n",
       "      <td>200.0</td>\n",
       "      <td>1900.0</td>\n",
       "      <td>3000.0</td>\n",
       "      <td>5325.0</td>\n",
       "      <td>212544.0</td>\n",
       "    </tr>\n",
       "    <tr>\n",
       "      <th>Ipanema</th>\n",
       "      <td>2233.0</td>\n",
       "      <td>10456.52</td>\n",
       "      <td>20859.22</td>\n",
       "      <td>100.0</td>\n",
       "      <td>4000.0</td>\n",
       "      <td>7000.0</td>\n",
       "      <td>12000.0</td>\n",
       "      <td>800000.0</td>\n",
       "    </tr>\n",
       "    <tr>\n",
       "      <th>Leblon</th>\n",
       "      <td>1478.0</td>\n",
       "      <td>11052.35</td>\n",
       "      <td>20707.09</td>\n",
       "      <td>100.0</td>\n",
       "      <td>4500.0</td>\n",
       "      <td>7000.0</td>\n",
       "      <td>11900.0</td>\n",
       "      <td>430000.0</td>\n",
       "    </tr>\n",
       "    <tr>\n",
       "      <th>Tijuca</th>\n",
       "      <td>1359.0</td>\n",
       "      <td>2954.67</td>\n",
       "      <td>7979.73</td>\n",
       "      <td>320.0</td>\n",
       "      <td>1425.0</td>\n",
       "      <td>1800.0</td>\n",
       "      <td>2499.5</td>\n",
       "      <td>230000.0</td>\n",
       "    </tr>\n",
       "  </tbody>\n",
       "</table>\n",
       "</div>"
      ],
      "text/plain": [
       "                  count      mean        std    min     25%     50%      75%  \\\n",
       "Bairro                                                                         \n",
       "Barra da Tijuca  6256.0   9019.59   30192.24  100.0  2000.0  3500.0   8000.0   \n",
       "Botafogo         1372.0  19517.04  129131.61  299.0  2500.0  4000.0  11000.0   \n",
       "Copacabana       3185.0   4509.83    6413.41  100.0  1900.0  3000.0   4900.0   \n",
       "Flamengo          812.0   6923.48   15767.99  200.0  1900.0  3000.0   5325.0   \n",
       "Ipanema          2233.0  10456.52   20859.22  100.0  4000.0  7000.0  12000.0   \n",
       "Leblon           1478.0  11052.35   20707.09  100.0  4500.0  7000.0  11900.0   \n",
       "Tijuca           1359.0   2954.67    7979.73  320.0  1425.0  1800.0   2499.5   \n",
       "\n",
       "                       max  \n",
       "Bairro                      \n",
       "Barra da Tijuca   738197.0  \n",
       "Botafogo         4500000.0  \n",
       "Copacabana        198000.0  \n",
       "Flamengo          212544.0  \n",
       "Ipanema           800000.0  \n",
       "Leblon            430000.0  \n",
       "Tijuca            230000.0  "
      ]
     },
     "execution_count": 31,
     "metadata": {},
     "output_type": "execute_result"
    }
   ],
   "source": [
    "grupo_bairro['Valor'].describe().round(2)"
   ]
  },
  {
   "cell_type": "code",
   "execution_count": 32,
   "id": "bc8737df",
   "metadata": {},
   "outputs": [
    {
     "data": {
      "text/html": [
       "<div>\n",
       "<style scoped>\n",
       "    .dataframe tbody tr th:only-of-type {\n",
       "        vertical-align: middle;\n",
       "    }\n",
       "\n",
       "    .dataframe tbody tr th {\n",
       "        vertical-align: top;\n",
       "    }\n",
       "\n",
       "    .dataframe thead th {\n",
       "        text-align: right;\n",
       "    }\n",
       "</style>\n",
       "<table border=\"1\" class=\"dataframe\">\n",
       "  <thead>\n",
       "    <tr style=\"text-align: right;\">\n",
       "      <th></th>\n",
       "      <th>Mínimo</th>\n",
       "      <th>Máximo</th>\n",
       "    </tr>\n",
       "    <tr>\n",
       "      <th>Bairro</th>\n",
       "      <th></th>\n",
       "      <th></th>\n",
       "    </tr>\n",
       "  </thead>\n",
       "  <tbody>\n",
       "    <tr>\n",
       "      <th>Barra da Tijuca</th>\n",
       "      <td>100.0</td>\n",
       "      <td>738197.0</td>\n",
       "    </tr>\n",
       "    <tr>\n",
       "      <th>Botafogo</th>\n",
       "      <td>299.0</td>\n",
       "      <td>4500000.0</td>\n",
       "    </tr>\n",
       "    <tr>\n",
       "      <th>Copacabana</th>\n",
       "      <td>100.0</td>\n",
       "      <td>198000.0</td>\n",
       "    </tr>\n",
       "    <tr>\n",
       "      <th>Flamengo</th>\n",
       "      <td>200.0</td>\n",
       "      <td>212544.0</td>\n",
       "    </tr>\n",
       "    <tr>\n",
       "      <th>Ipanema</th>\n",
       "      <td>100.0</td>\n",
       "      <td>800000.0</td>\n",
       "    </tr>\n",
       "    <tr>\n",
       "      <th>Leblon</th>\n",
       "      <td>100.0</td>\n",
       "      <td>430000.0</td>\n",
       "    </tr>\n",
       "    <tr>\n",
       "      <th>Tijuca</th>\n",
       "      <td>320.0</td>\n",
       "      <td>230000.0</td>\n",
       "    </tr>\n",
       "  </tbody>\n",
       "</table>\n",
       "</div>"
      ],
      "text/plain": [
       "                 Mínimo     Máximo\n",
       "Bairro                            \n",
       "Barra da Tijuca   100.0   738197.0\n",
       "Botafogo          299.0  4500000.0\n",
       "Copacabana        100.0   198000.0\n",
       "Flamengo          200.0   212544.0\n",
       "Ipanema           100.0   800000.0\n",
       "Leblon            100.0   430000.0\n",
       "Tijuca            320.0   230000.0"
      ]
     },
     "execution_count": 32,
     "metadata": {},
     "output_type": "execute_result"
    }
   ],
   "source": [
    "grupo_bairro['Valor'].aggregate(['min', 'max']).rename(columns = {'min': 'Mínimo', 'max': 'Máximo'})"
   ]
  },
  {
   "cell_type": "code",
   "execution_count": 33,
   "id": "f2518e42",
   "metadata": {},
   "outputs": [],
   "source": [
    "%matplotlib inline\n",
    "import matplotlib.pyplot as plt\n",
    "plt.rc('figure', figsize = (20, 10))"
   ]
  },
  {
   "cell_type": "code",
   "execution_count": 34,
   "id": "9d2f4326",
   "metadata": {},
   "outputs": [
    {
     "data": {
      "text/plain": [
       "Text(0.5, 1.0, 'Valor Médio do Aluguel por Bairro')"
      ]
     },
     "execution_count": 34,
     "metadata": {},
     "output_type": "execute_result"
    },
    {
     "data": {
      "image/png": "[encoded data removed]",
      "text/plain": [
       "<Figure size 2000x1000 with 1 Axes>"
      ]
     },
     "metadata": {},
     "output_type": "display_data"
    }
   ],
   "source": [
    "fig = grupo_bairro['Valor'].mean().plot.bar(color = 'blue')\n",
    "fig.set_ylabel('Valor do Aluguel')\n",
    "fig.set_title('Valor Médio do Aluguel por Bairro', {'fontsize': 22})"
   ]
  },
  {
   "cell_type": "code",
   "execution_count": null,
   "id": "23b21fec",
   "metadata": {},
   "outputs": [],
   "source": []
  }
 ],
 "metadata": {
  "kernelspec": {
   "display_name": "Python 3 (ipykernel)",
   "language": "python",
   "name": "python3"
  },
  "language_info": {
   "codemirror_mode": {
    "name": "ipython",
    "version": 3
   },
   "file_extension": ".py",
   "mimetype": "text/x-python",
   "name": "python",
   "nbconvert_exporter": "python",
   "pygments_lexer": "ipython3",
   "version": "3.9.13"
  }
 },
 "nbformat": 4,
 "nbformat_minor": 5
}
